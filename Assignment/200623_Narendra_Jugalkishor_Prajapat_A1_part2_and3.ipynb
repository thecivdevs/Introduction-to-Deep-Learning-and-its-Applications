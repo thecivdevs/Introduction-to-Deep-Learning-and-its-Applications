{
  "nbformat": 4,
  "nbformat_minor": 0,
  "metadata": {
    "colab": {
      "name": "200623_Narendra Jugalkishor Prajapat_A1_part2 and3",
      "provenance": [],
      "collapsed_sections": []
    },
    "kernelspec": {
      "name": "python3",
      "display_name": "Python 3"
    },
    "language_info": {
      "name": "python"
    }
  },
  "cells": [
    {
      "cell_type": "code",
      "execution_count": 2,
      "metadata": {
        "id": "2I-Wi8HGnDux",
        "colab": {
          "base_uri": "https://localhost:8080/",
          "height": 442
        },
        "outputId": "3817f1f8-9d3c-470d-d1f4-6d1f2e3b75ed"
      },
      "outputs": [
        {
          "output_type": "stream",
          "name": "stdout",
          "text": [
            "Mounted at /content/drive\n"
          ]
        },
        {
          "output_type": "execute_result",
          "data": {
            "text/plain": [
              "                 city  area  rooms  bathroom  parking spaces floor     animal  \\\n",
              "0           São Paulo    70      2         1               1     7      acept   \n",
              "1           São Paulo   320      4         4               0    20      acept   \n",
              "2        Porto Alegre    80      1         1               1     6      acept   \n",
              "3        Porto Alegre    51      2         1               0     2      acept   \n",
              "4           São Paulo    25      1         1               0     1  not acept   \n",
              "...               ...   ...    ...       ...             ...   ...        ...   \n",
              "10687    Porto Alegre    63      2         1               1     5  not acept   \n",
              "10688       São Paulo   285      4         4               4    17      acept   \n",
              "10689  Rio de Janeiro    70      3         3               0     8  not acept   \n",
              "10690  Rio de Janeiro   120      2         2               2     8      acept   \n",
              "10691       São Paulo    80      2         1               0     -      acept   \n",
              "\n",
              "           furniture  hoa (R$)  rent amount (R$)  property tax (R$)  \\\n",
              "0          furnished      2065              3300                211   \n",
              "1      not furnished      1200              4960               1750   \n",
              "2      not furnished      1000              2800                  0   \n",
              "3      not furnished       270              1112                 22   \n",
              "4      not furnished         0               800                 25   \n",
              "...              ...       ...               ...                ...   \n",
              "10687      furnished       402              1478                 24   \n",
              "10688  not furnished      3100             15000                973   \n",
              "10689      furnished       980              6000                332   \n",
              "10690      furnished      1585             12000                279   \n",
              "10691  not furnished         0              1400                165   \n",
              "\n",
              "       fire insurance (R$)  total (R$)  \n",
              "0                       42        5618  \n",
              "1                       63        7973  \n",
              "2                       41        3841  \n",
              "3                       17        1421  \n",
              "4                       11         836  \n",
              "...                    ...         ...  \n",
              "10687                   22        1926  \n",
              "10688                  191       19260  \n",
              "10689                   78        7390  \n",
              "10690                  155       14020  \n",
              "10691                   22        1587  \n",
              "\n",
              "[10692 rows x 13 columns]"
            ],
            "text/html": [
              "\n",
              "  <div id=\"df-00712a2c-3b41-4ef7-8572-e996d35fac8e\">\n",
              "    <div class=\"colab-df-container\">\n",
              "      <div>\n",
              "<style scoped>\n",
              "    .dataframe tbody tr th:only-of-type {\n",
              "        vertical-align: middle;\n",
              "    }\n",
              "\n",
              "    .dataframe tbody tr th {\n",
              "        vertical-align: top;\n",
              "    }\n",
              "\n",
              "    .dataframe thead th {\n",
              "        text-align: right;\n",
              "    }\n",
              "</style>\n",
              "<table border=\"1\" class=\"dataframe\">\n",
              "  <thead>\n",
              "    <tr style=\"text-align: right;\">\n",
              "      <th></th>\n",
              "      <th>city</th>\n",
              "      <th>area</th>\n",
              "      <th>rooms</th>\n",
              "      <th>bathroom</th>\n",
              "      <th>parking spaces</th>\n",
              "      <th>floor</th>\n",
              "      <th>animal</th>\n",
              "      <th>furniture</th>\n",
              "      <th>hoa (R$)</th>\n",
              "      <th>rent amount (R$)</th>\n",
              "      <th>property tax (R$)</th>\n",
              "      <th>fire insurance (R$)</th>\n",
              "      <th>total (R$)</th>\n",
              "    </tr>\n",
              "  </thead>\n",
              "  <tbody>\n",
              "    <tr>\n",
              "      <th>0</th>\n",
              "      <td>São Paulo</td>\n",
              "      <td>70</td>\n",
              "      <td>2</td>\n",
              "      <td>1</td>\n",
              "      <td>1</td>\n",
              "      <td>7</td>\n",
              "      <td>acept</td>\n",
              "      <td>furnished</td>\n",
              "      <td>2065</td>\n",
              "      <td>3300</td>\n",
              "      <td>211</td>\n",
              "      <td>42</td>\n",
              "      <td>5618</td>\n",
              "    </tr>\n",
              "    <tr>\n",
              "      <th>1</th>\n",
              "      <td>São Paulo</td>\n",
              "      <td>320</td>\n",
              "      <td>4</td>\n",
              "      <td>4</td>\n",
              "      <td>0</td>\n",
              "      <td>20</td>\n",
              "      <td>acept</td>\n",
              "      <td>not furnished</td>\n",
              "      <td>1200</td>\n",
              "      <td>4960</td>\n",
              "      <td>1750</td>\n",
              "      <td>63</td>\n",
              "      <td>7973</td>\n",
              "    </tr>\n",
              "    <tr>\n",
              "      <th>2</th>\n",
              "      <td>Porto Alegre</td>\n",
              "      <td>80</td>\n",
              "      <td>1</td>\n",
              "      <td>1</td>\n",
              "      <td>1</td>\n",
              "      <td>6</td>\n",
              "      <td>acept</td>\n",
              "      <td>not furnished</td>\n",
              "      <td>1000</td>\n",
              "      <td>2800</td>\n",
              "      <td>0</td>\n",
              "      <td>41</td>\n",
              "      <td>3841</td>\n",
              "    </tr>\n",
              "    <tr>\n",
              "      <th>3</th>\n",
              "      <td>Porto Alegre</td>\n",
              "      <td>51</td>\n",
              "      <td>2</td>\n",
              "      <td>1</td>\n",
              "      <td>0</td>\n",
              "      <td>2</td>\n",
              "      <td>acept</td>\n",
              "      <td>not furnished</td>\n",
              "      <td>270</td>\n",
              "      <td>1112</td>\n",
              "      <td>22</td>\n",
              "      <td>17</td>\n",
              "      <td>1421</td>\n",
              "    </tr>\n",
              "    <tr>\n",
              "      <th>4</th>\n",
              "      <td>São Paulo</td>\n",
              "      <td>25</td>\n",
              "      <td>1</td>\n",
              "      <td>1</td>\n",
              "      <td>0</td>\n",
              "      <td>1</td>\n",
              "      <td>not acept</td>\n",
              "      <td>not furnished</td>\n",
              "      <td>0</td>\n",
              "      <td>800</td>\n",
              "      <td>25</td>\n",
              "      <td>11</td>\n",
              "      <td>836</td>\n",
              "    </tr>\n",
              "    <tr>\n",
              "      <th>...</th>\n",
              "      <td>...</td>\n",
              "      <td>...</td>\n",
              "      <td>...</td>\n",
              "      <td>...</td>\n",
              "      <td>...</td>\n",
              "      <td>...</td>\n",
              "      <td>...</td>\n",
              "      <td>...</td>\n",
              "      <td>...</td>\n",
              "      <td>...</td>\n",
              "      <td>...</td>\n",
              "      <td>...</td>\n",
              "      <td>...</td>\n",
              "    </tr>\n",
              "    <tr>\n",
              "      <th>10687</th>\n",
              "      <td>Porto Alegre</td>\n",
              "      <td>63</td>\n",
              "      <td>2</td>\n",
              "      <td>1</td>\n",
              "      <td>1</td>\n",
              "      <td>5</td>\n",
              "      <td>not acept</td>\n",
              "      <td>furnished</td>\n",
              "      <td>402</td>\n",
              "      <td>1478</td>\n",
              "      <td>24</td>\n",
              "      <td>22</td>\n",
              "      <td>1926</td>\n",
              "    </tr>\n",
              "    <tr>\n",
              "      <th>10688</th>\n",
              "      <td>São Paulo</td>\n",
              "      <td>285</td>\n",
              "      <td>4</td>\n",
              "      <td>4</td>\n",
              "      <td>4</td>\n",
              "      <td>17</td>\n",
              "      <td>acept</td>\n",
              "      <td>not furnished</td>\n",
              "      <td>3100</td>\n",
              "      <td>15000</td>\n",
              "      <td>973</td>\n",
              "      <td>191</td>\n",
              "      <td>19260</td>\n",
              "    </tr>\n",
              "    <tr>\n",
              "      <th>10689</th>\n",
              "      <td>Rio de Janeiro</td>\n",
              "      <td>70</td>\n",
              "      <td>3</td>\n",
              "      <td>3</td>\n",
              "      <td>0</td>\n",
              "      <td>8</td>\n",
              "      <td>not acept</td>\n",
              "      <td>furnished</td>\n",
              "      <td>980</td>\n",
              "      <td>6000</td>\n",
              "      <td>332</td>\n",
              "      <td>78</td>\n",
              "      <td>7390</td>\n",
              "    </tr>\n",
              "    <tr>\n",
              "      <th>10690</th>\n",
              "      <td>Rio de Janeiro</td>\n",
              "      <td>120</td>\n",
              "      <td>2</td>\n",
              "      <td>2</td>\n",
              "      <td>2</td>\n",
              "      <td>8</td>\n",
              "      <td>acept</td>\n",
              "      <td>furnished</td>\n",
              "      <td>1585</td>\n",
              "      <td>12000</td>\n",
              "      <td>279</td>\n",
              "      <td>155</td>\n",
              "      <td>14020</td>\n",
              "    </tr>\n",
              "    <tr>\n",
              "      <th>10691</th>\n",
              "      <td>São Paulo</td>\n",
              "      <td>80</td>\n",
              "      <td>2</td>\n",
              "      <td>1</td>\n",
              "      <td>0</td>\n",
              "      <td>-</td>\n",
              "      <td>acept</td>\n",
              "      <td>not furnished</td>\n",
              "      <td>0</td>\n",
              "      <td>1400</td>\n",
              "      <td>165</td>\n",
              "      <td>22</td>\n",
              "      <td>1587</td>\n",
              "    </tr>\n",
              "  </tbody>\n",
              "</table>\n",
              "<p>10692 rows × 13 columns</p>\n",
              "</div>\n",
              "      <button class=\"colab-df-convert\" onclick=\"convertToInteractive('df-00712a2c-3b41-4ef7-8572-e996d35fac8e')\"\n",
              "              title=\"Convert this dataframe to an interactive table.\"\n",
              "              style=\"display:none;\">\n",
              "        \n",
              "  <svg xmlns=\"http://www.w3.org/2000/svg\" height=\"24px\"viewBox=\"0 0 24 24\"\n",
              "       width=\"24px\">\n",
              "    <path d=\"M0 0h24v24H0V0z\" fill=\"none\"/>\n",
              "    <path d=\"M18.56 5.44l.94 2.06.94-2.06 2.06-.94-2.06-.94-.94-2.06-.94 2.06-2.06.94zm-11 1L8.5 8.5l.94-2.06 2.06-.94-2.06-.94L8.5 2.5l-.94 2.06-2.06.94zm10 10l.94 2.06.94-2.06 2.06-.94-2.06-.94-.94-2.06-.94 2.06-2.06.94z\"/><path d=\"M17.41 7.96l-1.37-1.37c-.4-.4-.92-.59-1.43-.59-.52 0-1.04.2-1.43.59L10.3 9.45l-7.72 7.72c-.78.78-.78 2.05 0 2.83L4 21.41c.39.39.9.59 1.41.59.51 0 1.02-.2 1.41-.59l7.78-7.78 2.81-2.81c.8-.78.8-2.07 0-2.86zM5.41 20L4 18.59l7.72-7.72 1.47 1.35L5.41 20z\"/>\n",
              "  </svg>\n",
              "      </button>\n",
              "      \n",
              "  <style>\n",
              "    .colab-df-container {\n",
              "      display:flex;\n",
              "      flex-wrap:wrap;\n",
              "      gap: 12px;\n",
              "    }\n",
              "\n",
              "    .colab-df-convert {\n",
              "      background-color: #E8F0FE;\n",
              "      border: none;\n",
              "      border-radius: 50%;\n",
              "      cursor: pointer;\n",
              "      display: none;\n",
              "      fill: #1967D2;\n",
              "      height: 32px;\n",
              "      padding: 0 0 0 0;\n",
              "      width: 32px;\n",
              "    }\n",
              "\n",
              "    .colab-df-convert:hover {\n",
              "      background-color: #E2EBFA;\n",
              "      box-shadow: 0px 1px 2px rgba(60, 64, 67, 0.3), 0px 1px 3px 1px rgba(60, 64, 67, 0.15);\n",
              "      fill: #174EA6;\n",
              "    }\n",
              "\n",
              "    [theme=dark] .colab-df-convert {\n",
              "      background-color: #3B4455;\n",
              "      fill: #D2E3FC;\n",
              "    }\n",
              "\n",
              "    [theme=dark] .colab-df-convert:hover {\n",
              "      background-color: #434B5C;\n",
              "      box-shadow: 0px 1px 3px 1px rgba(0, 0, 0, 0.15);\n",
              "      filter: drop-shadow(0px 1px 2px rgba(0, 0, 0, 0.3));\n",
              "      fill: #FFFFFF;\n",
              "    }\n",
              "  </style>\n",
              "\n",
              "      <script>\n",
              "        const buttonEl =\n",
              "          document.querySelector('#df-00712a2c-3b41-4ef7-8572-e996d35fac8e button.colab-df-convert');\n",
              "        buttonEl.style.display =\n",
              "          google.colab.kernel.accessAllowed ? 'block' : 'none';\n",
              "\n",
              "        async function convertToInteractive(key) {\n",
              "          const element = document.querySelector('#df-00712a2c-3b41-4ef7-8572-e996d35fac8e');\n",
              "          const dataTable =\n",
              "            await google.colab.kernel.invokeFunction('convertToInteractive',\n",
              "                                                     [key], {});\n",
              "          if (!dataTable) return;\n",
              "\n",
              "          const docLinkHtml = 'Like what you see? Visit the ' +\n",
              "            '<a target=\"_blank\" href=https://colab.research.google.com/notebooks/data_table.ipynb>data table notebook</a>'\n",
              "            + ' to learn more about interactive tables.';\n",
              "          element.innerHTML = '';\n",
              "          dataTable['output_type'] = 'display_data';\n",
              "          await google.colab.output.renderOutput(dataTable, element);\n",
              "          const docLink = document.createElement('div');\n",
              "          docLink.innerHTML = docLinkHtml;\n",
              "          element.appendChild(docLink);\n",
              "        }\n",
              "      </script>\n",
              "    </div>\n",
              "  </div>\n",
              "  "
            ]
          },
          "metadata": {},
          "execution_count": 2
        }
      ],
      "source": [
        "import numpy as np\n",
        "import matplotlib.pyplot as plt\n",
        "import pandas as pd\n",
        "from google.colab import drive\n",
        "drive.mount ('/content/drive')\n",
        "df = pd.read_csv(\"/content/drive/MyDrive/Colab Notebooks/stamatics.csv/House_prediction (1).csv\")\n",
        "df"
      ]
    },
    {
      "cell_type": "code",
      "source": [
        "alpha=df.describe()\n",
        "alpha\n",
        "print('Here it shows mean, std, min, etc about data of all cities with respect to all columns')"
      ],
      "metadata": {
        "colab": {
          "base_uri": "https://localhost:8080/"
        },
        "id": "MbiV37-ZWfer",
        "outputId": "6369078b-7c39-4d8d-8548-090b30880f37"
      },
      "execution_count": 3,
      "outputs": [
        {
          "output_type": "stream",
          "name": "stdout",
          "text": [
            "Here it shows mean, std, min, etc about data of all cities with respect to all columns\n"
          ]
        }
      ]
    },
    {
      "cell_type": "code",
      "source": [
        "plt.hist(df['city'])"
      ],
      "metadata": {
        "colab": {
          "base_uri": "https://localhost:8080/",
          "height": 334
        },
        "id": "eV9_nHmdW7W0",
        "outputId": "a1b04c0e-530d-4002-8fd1-1acdee8edd17"
      },
      "execution_count": null,
      "outputs": [
        {
          "output_type": "execute_result",
          "data": {
            "text/plain": [
              "(array([5887.,    0., 1193.,    0.,    0., 1501.,    0.,  853.,    0.,\n",
              "        1258.]),\n",
              " array([0. , 0.4, 0.8, 1.2, 1.6, 2. , 2.4, 2.8, 3.2, 3.6, 4. ]),\n",
              " <a list of 10 Patch objects>)"
            ]
          },
          "metadata": {},
          "execution_count": 37
        },
        {
          "output_type": "display_data",
          "data": {
            "text/plain": [
              "<Figure size 432x288 with 1 Axes>"
            ],
            "image/png": "[encoded data removed]"
          },
          "metadata": {
            "needs_background": "light"
          }
        }
      ]
    },
    {
      "cell_type": "code",
      "source": [
        "beta = df.groupby(['city']).mean()        #https://www.youtube.com/watch?v=X2wjG4La78k&ab_channel=CodingShiksha took help from here\n",
        "gama = beta.loc[:,'property tax (R$)']\n",
        "gama.plot(kind='bar', color='purple',label='property tax (R$)')\n",
        "plt.ylabel('property tax (R$)')\n",
        "plt.legend()\n",
        "plt.show\n"
      ],
      "metadata": {
        "colab": {
          "base_uri": "https://localhost:8080/",
          "height": 360
        },
        "id": "izZiH1IgNIdA",
        "outputId": "32abde69-5a0a-4037-e981-846ef0558773"
      },
      "execution_count": 10,
      "outputs": [
        {
          "output_type": "stream",
          "name": "stdout",
          "text": [
            "How the property tax varies with respect to listed cities, as it is visible that it varies from (above 100 ) to 500 dollars (mean of values as per cities) max for Sao Paulo and min for Porto Alegre\n"
          ]
        },
        {
          "output_type": "display_data",
          "data": {
            "text/plain": [
              "<Figure size 432x288 with 1 Axes>"
            ],
            "image/png": "[encoded data removed]"
          },
          "metadata": {
            "needs_background": "light"
          }
        }
      ]
    },
    {
      "cell_type": "markdown",
      "source": [
        "'SO above it shows how the property tax varies with respect to listed cities, as it is visible that it varies from (above 100 ) to 500 dollars (mean of values as per cities) max for Sao Paulo and min for Porto Alegre'"
      ],
      "metadata": {
        "id": "sErpM7hm6Q6T"
      }
    },
    {
      "cell_type": "code",
      "source": [
        "beta = df.groupby(['city']).mean()       \n",
        "gama = beta.loc[:,'rent amount (R$)']\n",
        "gama.plot(kind='bar', color='purple', label='rent amount (R$)')\n",
        "plt.ylabel('rent amount (R$)')\n",
        "plt.legend()\n",
        "plt.show\n"
      ],
      "metadata": {
        "colab": {
          "base_uri": "https://localhost:8080/",
          "height": 360
        },
        "id": "PGpUW9BdRb3A",
        "outputId": "44803804-55fd-4269-a1c4-53fc016e24e8"
      },
      "execution_count": 9,
      "outputs": [
        {
          "output_type": "stream",
          "name": "stdout",
          "text": [
            "How the rent amount varies with respect to listed cities as it varies from (above 2000 ) to less than 6000 dollars (mean of values as per cities) max for Sao Paulo and min for Campinas and Porto Alegre\n"
          ]
        },
        {
          "output_type": "display_data",
          "data": {
            "text/plain": [
              "<Figure size 432x288 with 1 Axes>"
            ],
            "image/png": "[encoded data removed]"
          },
          "metadata": {
            "needs_background": "light"
          }
        }
      ]
    },
    {
      "cell_type": "markdown",
      "source": [
        "'So above it shows how the rent amount varies with respect to listed cities as it varies from (above 2000 ) to less than 6000 dollars (mean of values as per cities) max for Sao Paulo and min for Campinas and Porto Alegre'"
      ],
      "metadata": {
        "id": "gCyTt32T6Isq"
      }
    },
    {
      "cell_type": "code",
      "source": [
        "beta = df.groupby(['city']).mean()        \n",
        "gama = beta.loc[:,'hoa (R$)']\n",
        "gama.plot(kind='bar', color='purple', label='hoa (R$)')\n",
        "plt.ylabel('hoa (R$)')\n",
        "plt.legend()\n",
        "plt.show\n"
      ],
      "metadata": {
        "colab": {
          "base_uri": "https://localhost:8080/",
          "height": 360
        },
        "id": "kMwM-brAScqK",
        "outputId": "6ec9c930-e96c-41fa-aa30-1d9a8b9214f7"
      },
      "execution_count": 8,
      "outputs": [
        {
          "output_type": "stream",
          "name": "stdout",
          "text": [
            "How the hoa (R$) varies with respect to listed cities as it varies from (500 ) to less than 2500 dollars (mean of values as per cities) max for Belo Horizonte and min for porto Alegre\n"
          ]
        },
        {
          "output_type": "display_data",
          "data": {
            "text/plain": [
              "<Figure size 432x288 with 1 Axes>"
            ],
            "image/png": "[encoded data removed]"
          },
          "metadata": {
            "needs_background": "light"
          }
        }
      ]
    },
    {
      "cell_type": "markdown",
      "source": [
        "'So above it showa how the hoa (R$) varies with respect to listed cities as it varies from (500 ) to less than 2500 dollars (mean of values as per cities) max for Belo Horizonte and min for porto Alegre'"
      ],
      "metadata": {
        "id": "t2w3_2PZ59mf"
      }
    },
    {
      "cell_type": "code",
      "source": [
        "\n",
        "print(' ')\n",
        "beta = df.groupby(['city']).mean()       \n",
        "gama = beta.loc[:,'fire insurance (R$)']\n",
        "gama.plot(kind='bar', color='purple', label='fire insurance (R$)\t)')\n",
        "plt.ylabel('fire insurance (R$)')\n",
        "plt.legend()\n",
        "plt.show\n",
        "\n"
      ],
      "metadata": {
        "colab": {
          "base_uri": "https://localhost:8080/",
          "height": 490
        },
        "id": "Qcj7bi8hc9dx",
        "outputId": "1f75d71b-2c19-4fe8-c37b-95ab09c75421"
      },
      "execution_count": 19,
      "outputs": [
        {
          "output_type": "stream",
          "name": "stdout",
          "text": [
            "How the fire insurance (R$) varies with respect to listed cities as it varies from (30 ) to less than 70 dollars (mean of values as per cities) max for Sao Paulo and min for Campinas and porto Alegre also in min category\n",
            "\n",
            " \n"
          ]
        },
        {
          "output_type": "execute_result",
          "data": {
            "text/plain": [
              "<function matplotlib.pyplot.show>"
            ]
          },
          "metadata": {},
          "execution_count": 19
        },
        {
          "output_type": "stream",
          "name": "stderr",
          "text": [
            "/usr/local/lib/python3.7/dist-packages/matplotlib/backends/backend_agg.py:214: RuntimeWarning: Glyph 9 missing from current font.\n",
            "  font.set_text(s, 0.0, flags=flags)\n",
            "/usr/local/lib/python3.7/dist-packages/matplotlib/backends/backend_agg.py:183: RuntimeWarning: Glyph 9 missing from current font.\n",
            "  font.set_text(s, 0, flags=flags)\n"
          ]
        },
        {
          "output_type": "display_data",
          "data": {
            "text/plain": [
              "<Figure size 432x288 with 1 Axes>"
            ],
            "image/png": "[encoded data removed]"
          },
          "metadata": {
            "needs_background": "light"
          }
        }
      ]
    },
    {
      "cell_type": "markdown",
      "source": [
        "Above it shows how the fire insurance (R$) varies with respect to listed cities as it varies from (30 ) to less than 70 dollars (mean of values as per cities) max for Sao Paulo and min for Campinas and porto Alegre also in min category"
      ],
      "metadata": {
        "id": "h3_0DPBi5ysh"
      }
    },
    {
      "cell_type": "code",
      "source": [
        "beta = df.groupby(['city']).mean()        \n",
        "gama = beta.loc[:,'rooms']\n",
        "gama.plot(kind='bar', color='purple', label='rooms')\n",
        "plt.ylabel('rooms)')\n",
        "plt.legend()\n",
        "plt.show"
      ],
      "metadata": {
        "colab": {
          "base_uri": "https://localhost:8080/",
          "height": 360
        },
        "id": "31Up5D1I6tCX",
        "outputId": "a50e71ab-7f0e-4d00-8ec0-55d88323f1b0"
      },
      "execution_count": 22,
      "outputs": [
        {
          "output_type": "execute_result",
          "data": {
            "text/plain": [
              "<function matplotlib.pyplot.show>"
            ]
          },
          "metadata": {},
          "execution_count": 22
        },
        {
          "output_type": "display_data",
          "data": {
            "text/plain": [
              "<Figure size 432x288 with 1 Axes>"
            ],
            "image/png": "[encoded data removed]"
          },
          "metadata": {
            "needs_background": "light"
          }
        }
      ]
    },
    {
      "cell_type": "markdown",
      "source": [
        "Above it shows that Belo Horizonte has more number of rooms that is 3 whereas Porto alegre has 2 on an average.\n"
      ],
      "metadata": {
        "id": "uVUb3jJF60zx"
      }
    },
    {
      "cell_type": "markdown",
      "source": [
        "\n",
        "# So, Overall review as per  **`fire insurance (R$)`** , **`rent amount (R$)`**, **`property tax (R$)`**, **`hoa (R$)`**, ***`the city  porto Alegre has lowest price`*** and one can go for this city who cannt afford high prices whereas ***`city São Paulo is not good choice in terms of money`*** and number of rooms are not so less on an average for Porto Alegre city, so it can be turns out be good choice for one.\n",
        "\n",
        "\n",
        "\n",
        "\n"
      ],
      "metadata": {
        "id": "7WVvdOH73tO7"
      }
    },
    {
      "cell_type": "code",
      "source": [
        "\n",
        "beta = df.groupby(['rooms']).mean()        \n",
        "gama = beta.loc[:,'total (R$)']\n",
        "gama.plot(kind='bar', color='red', label='total (R$)')\n",
        "plt.legend()\n",
        "plt.ylabel('total (R$)')\n",
        "plt.show"
      ],
      "metadata": {
        "colab": {
          "base_uri": "https://localhost:8080/",
          "height": 299
        },
        "id": "XlYh1hXFSctX",
        "outputId": "512244ff-b7dc-4d21-a6f4-d6eb2775e447"
      },
      "execution_count": null,
      "outputs": [
        {
          "output_type": "execute_result",
          "data": {
            "text/plain": [
              "<function matplotlib.pyplot.show>"
            ]
          },
          "metadata": {},
          "execution_count": 101
        },
        {
          "output_type": "display_data",
          "data": {
            "text/plain": [
              "<Figure size 432x288 with 1 Axes>"
            ],
            "image/png": "[encoded data removed]"
          },
          "metadata": {
            "needs_background": "light"
          }
        }
      ]
    },
    {
      "cell_type": "markdown",
      "source": [
        "Above graph is almost :linear with total amount and no. of rooms "
      ],
      "metadata": {
        "id": "A-AyBm9p9q_d"
      }
    },
    {
      "cell_type": "code",
      "source": [
        "beta = df.groupby(['rooms']).mean()        \n",
        "gama = beta.loc[:,'rent amount (R$)']\n",
        "gama.plot(kind='bar', label='rent amount (R$)', color='red')\n",
        "plt.legend()\n",
        "plt.show"
      ],
      "metadata": {
        "colab": {
          "base_uri": "https://localhost:8080/",
          "height": 299
        },
        "id": "tkI-lpw7ScvT",
        "outputId": "113cd6ea-a8e1-47cb-f5e3-b095c0bfc416"
      },
      "execution_count": null,
      "outputs": [
        {
          "output_type": "execute_result",
          "data": {
            "text/plain": [
              "<function matplotlib.pyplot.show>"
            ]
          },
          "metadata": {},
          "execution_count": 100
        },
        {
          "output_type": "display_data",
          "data": {
            "text/plain": [
              "<Figure size 432x288 with 1 Axes>"
            ],
            "image/png": "[encoded data removed]"
          },
          "metadata": {
            "needs_background": "light"
          }
        }
      ]
    },
    {
      "cell_type": "markdown",
      "source": [
        "Above graph is almost :linear with rent amount and no. of rooms "
      ],
      "metadata": {
        "id": "3tbTriQQ940u"
      }
    },
    {
      "cell_type": "code",
      "source": [
        "beta = df.groupby(['rooms']).mean()        \n",
        "gama = beta.loc[:,'hoa (R$)']\n",
        "gama.plot(kind='bar', label='hoa (R$)', color='red')\n",
        "plt.legend()\n",
        "plt.show"
      ],
      "metadata": {
        "colab": {
          "base_uri": "https://localhost:8080/",
          "height": 299
        },
        "id": "CJOrg5ypcE_U",
        "outputId": "133b0abe-9c44-4147-90fa-6e866107f78e"
      },
      "execution_count": null,
      "outputs": [
        {
          "output_type": "execute_result",
          "data": {
            "text/plain": [
              "<function matplotlib.pyplot.show>"
            ]
          },
          "metadata": {},
          "execution_count": 103
        },
        {
          "output_type": "display_data",
          "data": {
            "text/plain": [
              "<Figure size 432x288 with 1 Axes>"
            ],
            "image/png": "[encoded data removed]"
          },
          "metadata": {
            "needs_background": "light"
          }
        }
      ]
    },
    {
      "cell_type": "code",
      "source": [
        "beta = df.groupby(['rooms']).mean()        \n",
        "gama = beta.loc[:,'property tax (R$)']\n",
        "gama.plot(kind='bar', label='property tax (R$)', color='red')\n",
        "plt.legend()\n",
        "plt.show"
      ],
      "metadata": {
        "colab": {
          "base_uri": "https://localhost:8080/",
          "height": 299
        },
        "id": "-xcOEgOncaeU",
        "outputId": "8dca1029-3060-4834-b7aa-ae54e01cc593"
      },
      "execution_count": null,
      "outputs": [
        {
          "output_type": "execute_result",
          "data": {
            "text/plain": [
              "<function matplotlib.pyplot.show>"
            ]
          },
          "metadata": {},
          "execution_count": 104
        },
        {
          "output_type": "display_data",
          "data": {
            "text/plain": [
              "<Figure size 432x288 with 1 Axes>"
            ],
            "image/png": "[encoded data removed]"
          },
          "metadata": {
            "needs_background": "light"
          }
        }
      ]
    },
    {
      "cell_type": "markdown",
      "source": [
        "Above graph shows the behaviour of property tax and no. of rooms initally takes jump and then gradually decreases as no. of rooms increases.  "
      ],
      "metadata": {
        "id": "qxV9iwtF9A_Q"
      }
    },
    {
      "cell_type": "code",
      "source": [
        "beta = df.groupby(['rooms']).mean()       \n",
        "gama = beta.loc[:,'fire insurance (R$)']\n",
        "gama.plot(kind='bar', color='red', label= 'fire insurance (R$)\t')\n",
        "plt.legend()\n",
        "plt.show"
      ],
      "metadata": {
        "colab": {
          "base_uri": "https://localhost:8080/",
          "height": 351
        },
        "id": "233X_drzcjnH",
        "outputId": "aa66cd72-4a8f-479d-fa94-bc3419b87d33"
      },
      "execution_count": null,
      "outputs": [
        {
          "output_type": "execute_result",
          "data": {
            "text/plain": [
              "<function matplotlib.pyplot.show>"
            ]
          },
          "metadata": {},
          "execution_count": 108
        },
        {
          "output_type": "stream",
          "name": "stderr",
          "text": [
            "/usr/local/lib/python3.7/dist-packages/matplotlib/backends/backend_agg.py:214: RuntimeWarning: Glyph 9 missing from current font.\n",
            "  font.set_text(s, 0.0, flags=flags)\n",
            "/usr/local/lib/python3.7/dist-packages/matplotlib/backends/backend_agg.py:183: RuntimeWarning: Glyph 9 missing from current font.\n",
            "  font.set_text(s, 0, flags=flags)\n"
          ]
        },
        {
          "output_type": "display_data",
          "data": {
            "text/plain": [
              "<Figure size 432x288 with 1 Axes>"
            ],
            "image/png": "[encoded data removed]"
          },
          "metadata": {
            "needs_background": "light"
          }
        }
      ]
    },
    {
      "cell_type": "markdown",
      "source": [
        "Above graph is almost linear for Fire insurance and no. of rooms"
      ],
      "metadata": {
        "id": "RvrhhEEn8qTJ"
      }
    },
    {
      "cell_type": "code",
      "source": [
        "beta = df.groupby(['area']).mean()       \n",
        "gama = beta.loc[:,'property tax (R$)']\n",
        "gama.plot(kind='bar', color='black', label= 'property tax (R$)')\n",
        "plt.legend()\n",
        "plt.show"
      ],
      "metadata": {
        "colab": {
          "base_uri": "https://localhost:8080/",
          "height": 318
        },
        "id": "-BoVBI11Scym",
        "outputId": "a3700fe1-1295-4f06-8bd7-ace995b70cb4"
      },
      "execution_count": null,
      "outputs": [
        {
          "output_type": "execute_result",
          "data": {
            "text/plain": [
              "<function matplotlib.pyplot.show>"
            ]
          },
          "metadata": {},
          "execution_count": 96
        },
        {
          "output_type": "display_data",
          "data": {
            "text/plain": [
              "<Figure size 432x288 with 1 Axes>"
            ],
            "image/png": "[encoded data removed]"
          },
          "metadata": {
            "needs_background": "light"
          }
        }
      ]
    },
    {
      "cell_type": "markdown",
      "source": [
        "as the Area Increases Propert Tax also varies linearly initially and at the end tooks jump "
      ],
      "metadata": {
        "id": "r-G-RzLT72J1"
      }
    }
  ]
}